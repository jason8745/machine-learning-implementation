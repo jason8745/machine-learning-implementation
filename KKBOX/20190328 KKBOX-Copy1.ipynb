{
 "cells": [
  {
   "cell_type": "markdown",
   "metadata": {},
   "source": [
    "# KKBOX Data"
   ]
  },
  {
   "cell_type": "markdown",
   "metadata": {},
   "source": [
    "Data preparation"
   ]
  },
  {
   "cell_type": "code",
   "execution_count": 1,
   "metadata": {},
   "outputs": [
    {
     "name": "stderr",
     "output_type": "stream",
     "text": [
      "C:\\Users\\a0970\\Anaconda3\\lib\\site-packages\\sklearn\\cross_validation.py:41: DeprecationWarning: This module was deprecated in version 0.18 in favor of the model_selection module into which all the refactored classes and functions are moved. Also note that the interface of the new CV iterators are different from that of this module. This module will be removed in 0.20.\n",
      "  \"This module will be removed in 0.20.\", DeprecationWarning)\n",
      "C:\\Users\\a0970\\Anaconda3\\lib\\site-packages\\sklearn\\grid_search.py:42: DeprecationWarning: This module was deprecated in version 0.18 in favor of the model_selection module into which all the refactored classes and functions are moved. This module will be removed in 0.20.\n",
      "  DeprecationWarning)\n"
     ]
    }
   ],
   "source": [
    "from sklearn import cross_validation, grid_search, metrics, ensemble\n",
    "import xgboost as xgb\n",
    "import numpy as np\n",
    "import pandas as pd\n",
    "import seaborn as sns\n",
    "import matplotlib.pyplot as plt\n",
    "import matplotlib as mpl\n",
    "import warnings\n",
    "warnings.filterwarnings('ignore')\n",
    "plt.style.use('ggplot')"
   ]
  },
  {
   "cell_type": "code",
   "execution_count": 2,
   "metadata": {},
   "outputs": [],
   "source": [
    "members = pd.read_csv(r'C:\\Users\\a0970\\OneDrive\\Documents\\datas\\KKBOX\\members.csv')\n",
    "songs = pd.read_csv(r'C:\\Users\\a0970\\OneDrive\\Documents\\datas\\KKBOX\\songs.csv')\n",
    "train = pd.read_csv(r'C:\\Users\\a0970\\OneDrive\\Documents\\datas\\KKBOX\\train.csv')"
   ]
  },
  {
   "cell_type": "code",
   "execution_count": 59,
   "metadata": {},
   "outputs": [],
   "source": [
    "df = pd.read_csv(r'C:\\Users\\a0970\\OneDrive\\Documents\\datas\\KKBOX\\train.csv')\n",
    "\n",
    "# 1% sample of items\n",
    "df = df.sample(frac=0.01)"
   ]
  },
  {
   "cell_type": "code",
   "execution_count": 61,
   "metadata": {},
   "outputs": [],
   "source": [
    "songs = pd.read_csv(r'C:\\Users\\a0970\\OneDrive\\Documents\\datas\\KKBOX\\songs.csv')\n",
    "df = pd.merge(df, songs, on='song_id', how='left')\n",
    "del songs\n",
    "\n",
    "# Load and join songs data\n",
    "members = pd.read_csv(r'C:\\Users\\a0970\\OneDrive\\Documents\\datas\\KKBOX\\members.csv')\n",
    "df = pd.merge(df, members, on='msno', how='left')\n",
    "del members"
   ]
  },
  {
   "cell_type": "code",
   "execution_count": 62,
   "metadata": {},
   "outputs": [
    {
     "data": {
      "text/html": [
       "<div>\n",
       "<style scoped>\n",
       "    .dataframe tbody tr th:only-of-type {\n",
       "        vertical-align: middle;\n",
       "    }\n",
       "\n",
       "    .dataframe tbody tr th {\n",
       "        vertical-align: top;\n",
       "    }\n",
       "\n",
       "    .dataframe thead th {\n",
       "        text-align: right;\n",
       "    }\n",
       "</style>\n",
       "<table border=\"1\" class=\"dataframe\">\n",
       "  <thead>\n",
       "    <tr style=\"text-align: right;\">\n",
       "      <th></th>\n",
       "      <th>msno</th>\n",
       "      <th>song_id</th>\n",
       "      <th>source_system_tab</th>\n",
       "      <th>source_screen_name</th>\n",
       "      <th>source_type</th>\n",
       "      <th>target</th>\n",
       "      <th>song_length</th>\n",
       "      <th>genre_ids</th>\n",
       "      <th>artist_name</th>\n",
       "      <th>composer</th>\n",
       "      <th>lyricist</th>\n",
       "      <th>language</th>\n",
       "      <th>city</th>\n",
       "      <th>bd</th>\n",
       "      <th>gender</th>\n",
       "      <th>registered_via</th>\n",
       "      <th>registration_init_time</th>\n",
       "      <th>expiration_date</th>\n",
       "    </tr>\n",
       "  </thead>\n",
       "  <tbody>\n",
       "    <tr>\n",
       "      <th>0</th>\n",
       "      <td>en9ma/OM+X1cOFPI8RgE7Cxzj6h3gHS9tEbV4fmI9l4=</td>\n",
       "      <td>ufjl9/oJJRQx/0JUEBaIeyE82HP0CF7Fy2LwOIiNiYY=</td>\n",
       "      <td>my library</td>\n",
       "      <td>Local playlist more</td>\n",
       "      <td>local-library</td>\n",
       "      <td>1</td>\n",
       "      <td>188708</td>\n",
       "      <td>465</td>\n",
       "      <td>八三夭 (The Last Day of Summer 831)</td>\n",
       "      <td>阿璞(八三夭)</td>\n",
       "      <td>阿璞(八三夭)</td>\n",
       "      <td>3.0</td>\n",
       "      <td>1</td>\n",
       "      <td>0</td>\n",
       "      <td>NaN</td>\n",
       "      <td>4</td>\n",
       "      <td>20161022</td>\n",
       "      <td>20161029</td>\n",
       "    </tr>\n",
       "    <tr>\n",
       "      <th>1</th>\n",
       "      <td>JVkXCLctrW+s34+psAMCzbK2ampdmarUWYWC5Gn+0HQ=</td>\n",
       "      <td>cLzTs6KmiPL8JTK2ukWrxP+JDj6BIJEGXyeISnnxmWs=</td>\n",
       "      <td>my library</td>\n",
       "      <td>Local playlist more</td>\n",
       "      <td>local-library</td>\n",
       "      <td>1</td>\n",
       "      <td>270942</td>\n",
       "      <td>465</td>\n",
       "      <td>陳雷</td>\n",
       "      <td>陳宏</td>\n",
       "      <td>陳宏</td>\n",
       "      <td>10.0</td>\n",
       "      <td>1</td>\n",
       "      <td>0</td>\n",
       "      <td>NaN</td>\n",
       "      <td>7</td>\n",
       "      <td>20110128</td>\n",
       "      <td>20171001</td>\n",
       "    </tr>\n",
       "    <tr>\n",
       "      <th>2</th>\n",
       "      <td>91J/ZoXnzZ5v0PH85pkD8XRZjsfLYTy082kHUO5nJFY=</td>\n",
       "      <td>QpDkltxG3823bIG3tFfQlvX5UBoMYdX7kF8j0H0Ktt4=</td>\n",
       "      <td>my library</td>\n",
       "      <td>Local playlist more</td>\n",
       "      <td>local-library</td>\n",
       "      <td>0</td>\n",
       "      <td>274599</td>\n",
       "      <td>465</td>\n",
       "      <td>郭采潔 (Amber Kuo)</td>\n",
       "      <td>Guan Wei Tang</td>\n",
       "      <td>Hu Ru Hong</td>\n",
       "      <td>3.0</td>\n",
       "      <td>13</td>\n",
       "      <td>31</td>\n",
       "      <td>male</td>\n",
       "      <td>9</td>\n",
       "      <td>20051125</td>\n",
       "      <td>20180105</td>\n",
       "    </tr>\n",
       "    <tr>\n",
       "      <th>3</th>\n",
       "      <td>kan71ZA4MRa1qjytjk7yBurkhk5A8lGqGDe07ON3iDo=</td>\n",
       "      <td>bKqsVRkI9xyvZI7x96An8Lg4Ow+iaj310v4iwtFTdc8=</td>\n",
       "      <td>search</td>\n",
       "      <td>Album more</td>\n",
       "      <td>album</td>\n",
       "      <td>0</td>\n",
       "      <td>288763</td>\n",
       "      <td>465</td>\n",
       "      <td>Mariah Carey</td>\n",
       "      <td>Mariah Carey|James Wright</td>\n",
       "      <td>NaN</td>\n",
       "      <td>52.0</td>\n",
       "      <td>1</td>\n",
       "      <td>0</td>\n",
       "      <td>NaN</td>\n",
       "      <td>7</td>\n",
       "      <td>20150917</td>\n",
       "      <td>20171005</td>\n",
       "    </tr>\n",
       "    <tr>\n",
       "      <th>4</th>\n",
       "      <td>xk73CNHhT4j+oE8yxR438NApz29Rxl9MVWnapgjqQ+M=</td>\n",
       "      <td>rO8URjqVL17Igk96X8wH0m0nuXhvs5c3ZTABc5JQAek=</td>\n",
       "      <td>discover</td>\n",
       "      <td>Discover Genre</td>\n",
       "      <td>online-playlist</td>\n",
       "      <td>0</td>\n",
       "      <td>202187</td>\n",
       "      <td>444</td>\n",
       "      <td>Rania</td>\n",
       "      <td>NaN</td>\n",
       "      <td>NaN</td>\n",
       "      <td>31.0</td>\n",
       "      <td>13</td>\n",
       "      <td>31</td>\n",
       "      <td>female</td>\n",
       "      <td>4</td>\n",
       "      <td>20160616</td>\n",
       "      <td>20171003</td>\n",
       "    </tr>\n",
       "  </tbody>\n",
       "</table>\n",
       "</div>"
      ],
      "text/plain": [
       "                                           msno  \\\n",
       "0  en9ma/OM+X1cOFPI8RgE7Cxzj6h3gHS9tEbV4fmI9l4=   \n",
       "1  JVkXCLctrW+s34+psAMCzbK2ampdmarUWYWC5Gn+0HQ=   \n",
       "2  91J/ZoXnzZ5v0PH85pkD8XRZjsfLYTy082kHUO5nJFY=   \n",
       "3  kan71ZA4MRa1qjytjk7yBurkhk5A8lGqGDe07ON3iDo=   \n",
       "4  xk73CNHhT4j+oE8yxR438NApz29Rxl9MVWnapgjqQ+M=   \n",
       "\n",
       "                                        song_id source_system_tab  \\\n",
       "0  ufjl9/oJJRQx/0JUEBaIeyE82HP0CF7Fy2LwOIiNiYY=        my library   \n",
       "1  cLzTs6KmiPL8JTK2ukWrxP+JDj6BIJEGXyeISnnxmWs=        my library   \n",
       "2  QpDkltxG3823bIG3tFfQlvX5UBoMYdX7kF8j0H0Ktt4=        my library   \n",
       "3  bKqsVRkI9xyvZI7x96An8Lg4Ow+iaj310v4iwtFTdc8=            search   \n",
       "4  rO8URjqVL17Igk96X8wH0m0nuXhvs5c3ZTABc5JQAek=          discover   \n",
       "\n",
       "    source_screen_name      source_type  target  song_length genre_ids  \\\n",
       "0  Local playlist more    local-library       1       188708       465   \n",
       "1  Local playlist more    local-library       1       270942       465   \n",
       "2  Local playlist more    local-library       0       274599       465   \n",
       "3           Album more            album       0       288763       465   \n",
       "4       Discover Genre  online-playlist       0       202187       444   \n",
       "\n",
       "                        artist_name                   composer    lyricist  \\\n",
       "0  八三夭 (The Last Day of Summer 831)                    阿璞(八三夭)     阿璞(八三夭)   \n",
       "1                                陳雷                         陳宏          陳宏   \n",
       "2                   郭采潔 (Amber Kuo)              Guan Wei Tang  Hu Ru Hong   \n",
       "3                      Mariah Carey  Mariah Carey|James Wright         NaN   \n",
       "4                             Rania                        NaN         NaN   \n",
       "\n",
       "   language  city  bd  gender  registered_via  registration_init_time  \\\n",
       "0       3.0     1   0     NaN               4                20161022   \n",
       "1      10.0     1   0     NaN               7                20110128   \n",
       "2       3.0    13  31    male               9                20051125   \n",
       "3      52.0     1   0     NaN               7                20150917   \n",
       "4      31.0    13  31  female               4                20160616   \n",
       "\n",
       "   expiration_date  \n",
       "0         20161029  \n",
       "1         20171001  \n",
       "2         20180105  \n",
       "3         20171005  \n",
       "4         20171003  "
      ]
     },
     "execution_count": 62,
     "metadata": {},
     "output_type": "execute_result"
    }
   ],
   "source": [
    "df.head()"
   ]
  },
  {
   "cell_type": "code",
   "execution_count": 39,
   "metadata": {},
   "outputs": [],
   "source": [
    "test  =pd.read_csv(r'C:\\Users\\a0970\\OneDrive\\Documents\\datas\\KKBOX\\test.csv')"
   ]
  },
  {
   "cell_type": "code",
   "execution_count": 4,
   "metadata": {},
   "outputs": [
    {
     "name": "stdout",
     "output_type": "stream",
     "text": [
      "<class 'pandas.core.frame.DataFrame'>\n",
      "Int64Index: 73774 entries, 0 to 73773\n",
      "Data columns (total 18 columns):\n",
      "msno                      73774 non-null object\n",
      "song_id                   73774 non-null object\n",
      "source_system_tab         73541 non-null object\n",
      "source_screen_name        69484 non-null object\n",
      "source_type               73573 non-null object\n",
      "target                    73774 non-null int64\n",
      "song_length               73773 non-null float64\n",
      "genre_ids                 72569 non-null object\n",
      "artist_name               73773 non-null object\n",
      "composer                  56852 non-null object\n",
      "lyricist                  41800 non-null object\n",
      "language                  73773 non-null float64\n",
      "city                      73774 non-null int64\n",
      "bd                        73774 non-null int64\n",
      "gender                    44205 non-null object\n",
      "registered_via            73774 non-null int64\n",
      "registration_init_time    73774 non-null int64\n",
      "expiration_date           73774 non-null int64\n",
      "dtypes: float64(2), int64(6), object(10)\n",
      "memory usage: 10.7+ MB\n"
     ]
    }
   ],
   "source": [
    "df.info()"
   ]
  },
  {
   "cell_type": "code",
   "execution_count": 5,
   "metadata": {},
   "outputs": [
    {
     "data": {
      "text/plain": [
       "msno                       0.000000\n",
       "song_id                    0.000000\n",
       "source_system_tab          0.315829\n",
       "source_screen_name         5.815057\n",
       "source_type                0.272454\n",
       "target                     0.000000\n",
       "song_length                0.001355\n",
       "genre_ids                  1.633367\n",
       "artist_name                0.001355\n",
       "composer                  22.937620\n",
       "lyricist                  43.340472\n",
       "language                   0.001355\n",
       "city                       0.000000\n",
       "bd                         0.000000\n",
       "gender                    40.080516\n",
       "registered_via             0.000000\n",
       "registration_init_time     0.000000\n",
       "expiration_date            0.000000\n",
       "dtype: float64"
      ]
     },
     "execution_count": 5,
     "metadata": {},
     "output_type": "execute_result"
    }
   ],
   "source": [
    "# Count Na in %\n",
    "df.isnull().sum()/df.isnull().count()*100"
   ]
  },
  {
   "cell_type": "code",
   "execution_count": 6,
   "metadata": {},
   "outputs": [],
   "source": [
    "for i in df.select_dtypes(include=['object']).columns:\n",
    "    df[i][df[i].isnull()] = 'unknown'\n",
    "df = df.fillna(value=0)"
   ]
  },
  {
   "cell_type": "code",
   "execution_count": 12,
   "metadata": {},
   "outputs": [],
   "source": [
    "# Create Dates\n",
    "\n",
    "# registration_init_time\n",
    "df.registration_init_time = pd.to_datetime(df.registration_init_time, format='%Y%m%d', errors='ignore')\n",
    "df['registration_init_time_year'] = df['registration_init_time'].dt.year\n",
    "df['registration_init_time_month'] = df['registration_init_time'].dt.month\n",
    "df['registration_init_time_day'] = df['registration_init_time'].dt.day\n",
    "\n",
    "# expiration_date\n",
    "df.expiration_date = pd.to_datetime(df.expiration_date,  format='%Y%m%d', errors='ignore')\n",
    "df['expiration_date_year'] = df['expiration_date'].dt.year\n",
    "df['expiration_date_month'] = df['expiration_date'].dt.month\n",
    "df['expiration_date_day'] = df['expiration_date'].dt.day"
   ]
  },
  {
   "cell_type": "code",
   "execution_count": 16,
   "metadata": {},
   "outputs": [
    {
     "data": {
      "text/html": [
       "<div>\n",
       "<style scoped>\n",
       "    .dataframe tbody tr th:only-of-type {\n",
       "        vertical-align: middle;\n",
       "    }\n",
       "\n",
       "    .dataframe tbody tr th {\n",
       "        vertical-align: top;\n",
       "    }\n",
       "\n",
       "    .dataframe thead th {\n",
       "        text-align: right;\n",
       "    }\n",
       "</style>\n",
       "<table border=\"1\" class=\"dataframe\">\n",
       "  <thead>\n",
       "    <tr style=\"text-align: right;\">\n",
       "      <th></th>\n",
       "      <th>msno</th>\n",
       "      <th>song_id</th>\n",
       "      <th>source_system_tab</th>\n",
       "      <th>source_screen_name</th>\n",
       "      <th>source_type</th>\n",
       "      <th>target</th>\n",
       "      <th>song_length</th>\n",
       "      <th>genre_ids</th>\n",
       "      <th>artist_name</th>\n",
       "      <th>composer</th>\n",
       "      <th>...</th>\n",
       "      <th>gender</th>\n",
       "      <th>registered_via</th>\n",
       "      <th>registration_init_time</th>\n",
       "      <th>expiration_date</th>\n",
       "      <th>registration_init_time_year</th>\n",
       "      <th>registration_init_time_month</th>\n",
       "      <th>registration_init_time_day</th>\n",
       "      <th>expiration_date_year</th>\n",
       "      <th>expiration_date_month</th>\n",
       "      <th>expiration_date_day</th>\n",
       "    </tr>\n",
       "  </thead>\n",
       "  <tbody>\n",
       "    <tr>\n",
       "      <th>0</th>\n",
       "      <td>7505</td>\n",
       "      <td>6334</td>\n",
       "      <td>3</td>\n",
       "      <td>7</td>\n",
       "      <td>4</td>\n",
       "      <td>1</td>\n",
       "      <td>307200.0</td>\n",
       "      <td>141</td>\n",
       "      <td>5648</td>\n",
       "      <td>9469</td>\n",
       "      <td>...</td>\n",
       "      <td>1</td>\n",
       "      <td>9</td>\n",
       "      <td>3418</td>\n",
       "      <td>580</td>\n",
       "      <td>2016</td>\n",
       "      <td>6</td>\n",
       "      <td>27</td>\n",
       "      <td>2017</td>\n",
       "      <td>9</td>\n",
       "      <td>24</td>\n",
       "    </tr>\n",
       "    <tr>\n",
       "      <th>1</th>\n",
       "      <td>15149</td>\n",
       "      <td>25519</td>\n",
       "      <td>5</td>\n",
       "      <td>12</td>\n",
       "      <td>7</td>\n",
       "      <td>0</td>\n",
       "      <td>275748.0</td>\n",
       "      <td>141</td>\n",
       "      <td>5849</td>\n",
       "      <td>5468</td>\n",
       "      <td>...</td>\n",
       "      <td>0</td>\n",
       "      <td>9</td>\n",
       "      <td>3573</td>\n",
       "      <td>590</td>\n",
       "      <td>2017</td>\n",
       "      <td>1</td>\n",
       "      <td>1</td>\n",
       "      <td>2017</td>\n",
       "      <td>10</td>\n",
       "      <td>4</td>\n",
       "    </tr>\n",
       "    <tr>\n",
       "      <th>2</th>\n",
       "      <td>15687</td>\n",
       "      <td>13943</td>\n",
       "      <td>3</td>\n",
       "      <td>7</td>\n",
       "      <td>3</td>\n",
       "      <td>0</td>\n",
       "      <td>237122.0</td>\n",
       "      <td>37</td>\n",
       "      <td>180</td>\n",
       "      <td>326</td>\n",
       "      <td>...</td>\n",
       "      <td>2</td>\n",
       "      <td>4</td>\n",
       "      <td>3227</td>\n",
       "      <td>611</td>\n",
       "      <td>2015</td>\n",
       "      <td>11</td>\n",
       "      <td>16</td>\n",
       "      <td>2017</td>\n",
       "      <td>10</td>\n",
       "      <td>25</td>\n",
       "    </tr>\n",
       "    <tr>\n",
       "      <th>3</th>\n",
       "      <td>6828</td>\n",
       "      <td>13493</td>\n",
       "      <td>3</td>\n",
       "      <td>18</td>\n",
       "      <td>10</td>\n",
       "      <td>0</td>\n",
       "      <td>221753.0</td>\n",
       "      <td>141</td>\n",
       "      <td>6144</td>\n",
       "      <td>7692</td>\n",
       "      <td>...</td>\n",
       "      <td>0</td>\n",
       "      <td>3</td>\n",
       "      <td>2876</td>\n",
       "      <td>580</td>\n",
       "      <td>2014</td>\n",
       "      <td>11</td>\n",
       "      <td>29</td>\n",
       "      <td>2017</td>\n",
       "      <td>9</td>\n",
       "      <td>24</td>\n",
       "    </tr>\n",
       "    <tr>\n",
       "      <th>4</th>\n",
       "      <td>15691</td>\n",
       "      <td>13470</td>\n",
       "      <td>0</td>\n",
       "      <td>2</td>\n",
       "      <td>6</td>\n",
       "      <td>1</td>\n",
       "      <td>215144.0</td>\n",
       "      <td>139</td>\n",
       "      <td>5087</td>\n",
       "      <td>8062</td>\n",
       "      <td>...</td>\n",
       "      <td>1</td>\n",
       "      <td>4</td>\n",
       "      <td>3261</td>\n",
       "      <td>586</td>\n",
       "      <td>2015</td>\n",
       "      <td>12</td>\n",
       "      <td>20</td>\n",
       "      <td>2017</td>\n",
       "      <td>9</td>\n",
       "      <td>30</td>\n",
       "    </tr>\n",
       "  </tbody>\n",
       "</table>\n",
       "<p>5 rows × 24 columns</p>\n",
       "</div>"
      ],
      "text/plain": [
       "    msno  song_id  source_system_tab  source_screen_name  source_type  target  \\\n",
       "0   7505     6334                  3                   7            4       1   \n",
       "1  15149    25519                  5                  12            7       0   \n",
       "2  15687    13943                  3                   7            3       0   \n",
       "3   6828    13493                  3                  18           10       0   \n",
       "4  15691    13470                  0                   2            6       1   \n",
       "\n",
       "   song_length  genre_ids  artist_name  composer         ...           gender  \\\n",
       "0     307200.0        141         5648      9469         ...                1   \n",
       "1     275748.0        141         5849      5468         ...                0   \n",
       "2     237122.0         37          180       326         ...                2   \n",
       "3     221753.0        141         6144      7692         ...                0   \n",
       "4     215144.0        139         5087      8062         ...                1   \n",
       "\n",
       "   registered_via  registration_init_time  expiration_date  \\\n",
       "0               9                    3418              580   \n",
       "1               9                    3573              590   \n",
       "2               4                    3227              611   \n",
       "3               3                    2876              580   \n",
       "4               4                    3261              586   \n",
       "\n",
       "   registration_init_time_year  registration_init_time_month  \\\n",
       "0                         2016                             6   \n",
       "1                         2017                             1   \n",
       "2                         2015                            11   \n",
       "3                         2014                            11   \n",
       "4                         2015                            12   \n",
       "\n",
       "   registration_init_time_day  expiration_date_year  expiration_date_month  \\\n",
       "0                          27                  2017                      9   \n",
       "1                           1                  2017                     10   \n",
       "2                          16                  2017                     10   \n",
       "3                          29                  2017                      9   \n",
       "4                          20                  2017                      9   \n",
       "\n",
       "   expiration_date_day  \n",
       "0                   24  \n",
       "1                    4  \n",
       "2                   25  \n",
       "3                   24  \n",
       "4                   30  \n",
       "\n",
       "[5 rows x 24 columns]"
      ]
     },
     "execution_count": 16,
     "metadata": {},
     "output_type": "execute_result"
    }
   ],
   "source": [
    "df.head()"
   ]
  },
  {
   "cell_type": "code",
   "execution_count": 14,
   "metadata": {},
   "outputs": [],
   "source": [
    "# Dates to categoty\n",
    "df['registration_init_time'] = df['registration_init_time'].astype('category')\n",
    "df['expiration_date'] = df['expiration_date'].astype('category')"
   ]
  },
  {
   "cell_type": "markdown",
   "metadata": {},
   "source": [
    "important code section ,it transform data type from objcet to category, so it can use cat.code . it seems like scikit-learn preprocessing"
   ]
  },
  {
   "cell_type": "code",
   "execution_count": 15,
   "metadata": {},
   "outputs": [],
   "source": [
    "# Object data to category\n",
    "for col in df.select_dtypes(include=['object']).columns:\n",
    "    df[col] = df[col].astype('category')\n",
    "    \n",
    "# Encoding categorical features\n",
    "for col in df.select_dtypes(include=['category']).columns:\n",
    "    df[col] = df[col].cat.codes"
   ]
  },
  {
   "cell_type": "code",
   "execution_count": 17,
   "metadata": {},
   "outputs": [
    {
     "data": {
      "image/png": "[encoded data removed]",
      "text/plain": [
       "<Figure size 504x360 with 2 Axes>"
      ]
     },
     "metadata": {},
     "output_type": "display_data"
    }
   ],
   "source": [
    "plt.figure(figsize=[7,5])\n",
    "sns.heatmap(df.corr())\n",
    "plt.show()"
   ]
  },
  {
   "cell_type": "code",
   "execution_count": 18,
   "metadata": {},
   "outputs": [],
   "source": [
    "# Drop columns\n",
    "df = df.drop(['expiration_date', 'lyricist'], 1)"
   ]
  },
  {
   "cell_type": "code",
   "execution_count": 19,
   "metadata": {},
   "outputs": [
    {
     "data": {
      "text/plain": [
       "RandomForestClassifier(bootstrap=True, class_weight=None, criterion='gini',\n",
       "            max_depth=25, max_features='auto', max_leaf_nodes=None,\n",
       "            min_impurity_decrease=0.0, min_impurity_split=None,\n",
       "            min_samples_leaf=1, min_samples_split=2,\n",
       "            min_weight_fraction_leaf=0.0, n_estimators=250, n_jobs=1,\n",
       "            oob_score=False, random_state=None, verbose=0,\n",
       "            warm_start=False)"
      ]
     },
     "execution_count": 19,
     "metadata": {},
     "output_type": "execute_result"
    }
   ],
   "source": [
    "model = ensemble.RandomForestClassifier(n_estimators=250, max_depth=25)\n",
    "model.fit(df[df.columns[df.columns != 'target']], df.target)"
   ]
  },
  {
   "cell_type": "code",
   "execution_count": 20,
   "metadata": {},
   "outputs": [],
   "source": [
    "df_plot = pd.DataFrame({'features': df.columns[df.columns != 'target'],\n",
    "                        'importances': model.feature_importances_})\n",
    "df_plot = df_plot.sort_values('importances', ascending=False)"
   ]
  },
  {
   "cell_type": "code",
   "execution_count": 21,
   "metadata": {},
   "outputs": [
    {
     "data": {
      "image/png": "[encoded data removed]",
      "text/plain": [
       "<Figure size 792x360 with 1 Axes>"
      ]
     },
     "metadata": {},
     "output_type": "display_data"
    }
   ],
   "source": [
    "plt.figure(figsize=[11,5])\n",
    "sns.barplot(x = df_plot.importances, y = df_plot.features)\n",
    "plt.title('Importances of Features Plot')\n",
    "plt.show()"
   ]
  },
  {
   "cell_type": "code",
   "execution_count": 22,
   "metadata": {},
   "outputs": [],
   "source": [
    "# Drop columns with importances < 0.04\n",
    "df = df.drop(df_plot.features[df_plot.importances < 0.04].tolist(), 1)"
   ]
  },
  {
   "cell_type": "code",
   "execution_count": 85,
   "metadata": {},
   "outputs": [
    {
     "data": {
      "text/plain": [
       "9156"
      ]
     },
     "execution_count": 85,
     "metadata": {},
     "output_type": "execute_result"
    }
   ],
   "source": [
    "len(train_data.msno.unique())"
   ]
  },
  {
   "cell_type": "code",
   "execution_count": 23,
   "metadata": {},
   "outputs": [
    {
     "data": {
      "text/plain": [
       "Index(['msno', 'song_id', 'source_screen_name', 'source_type', 'target',\n",
       "       'song_length', 'artist_name', 'composer', 'bd',\n",
       "       'registration_init_time', 'registration_init_time_month',\n",
       "       'registration_init_time_day', 'expiration_date_day'],\n",
       "      dtype='object')"
      ]
     },
     "execution_count": 23,
     "metadata": {},
     "output_type": "execute_result"
    }
   ],
   "source": [
    "df.columns"
   ]
  },
  {
   "cell_type": "code",
   "execution_count": null,
   "metadata": {},
   "outputs": [],
   "source": []
  },
  {
   "cell_type": "code",
   "execution_count": 75,
   "metadata": {},
   "outputs": [],
   "source": [
    "#clean outlier data in bd\n",
    "train_data=train_data.drop(train_data[(train_data.bd>100) | (train_data.bd<=0)].index,0)"
   ]
  },
  {
   "cell_type": "code",
   "execution_count": 83,
   "metadata": {},
   "outputs": [
    {
     "data": {
      "text/plain": [
       "4213"
      ]
     },
     "execution_count": 83,
     "metadata": {},
     "output_type": "execute_result"
    }
   ],
   "source": [
    "len(train_data['artist_name'].unique())"
   ]
  },
  {
   "cell_type": "code",
   "execution_count": 76,
   "metadata": {},
   "outputs": [
    {
     "data": {
      "text/html": [
       "<div>\n",
       "<style scoped>\n",
       "    .dataframe tbody tr th:only-of-type {\n",
       "        vertical-align: middle;\n",
       "    }\n",
       "\n",
       "    .dataframe tbody tr th {\n",
       "        vertical-align: top;\n",
       "    }\n",
       "\n",
       "    .dataframe thead th {\n",
       "        text-align: right;\n",
       "    }\n",
       "</style>\n",
       "<table border=\"1\" class=\"dataframe\">\n",
       "  <thead>\n",
       "    <tr style=\"text-align: right;\">\n",
       "      <th></th>\n",
       "      <th>msno</th>\n",
       "      <th>song_id</th>\n",
       "      <th>source_screen_name</th>\n",
       "      <th>source_type</th>\n",
       "      <th>song_length</th>\n",
       "      <th>artist_name</th>\n",
       "      <th>composer</th>\n",
       "      <th>bd</th>\n",
       "      <th>registration_init_time</th>\n",
       "      <th>registration_init_time_month</th>\n",
       "      <th>registration_init_time_day</th>\n",
       "      <th>expiration_date_day</th>\n",
       "    </tr>\n",
       "  </thead>\n",
       "  <tbody>\n",
       "    <tr>\n",
       "      <th>17601</th>\n",
       "      <td>12428</td>\n",
       "      <td>2766</td>\n",
       "      <td>7</td>\n",
       "      <td>3</td>\n",
       "      <td>209215.0</td>\n",
       "      <td>1330</td>\n",
       "      <td>5460</td>\n",
       "      <td>32</td>\n",
       "      <td>1728</td>\n",
       "      <td>6</td>\n",
       "      <td>8</td>\n",
       "      <td>9</td>\n",
       "    </tr>\n",
       "    <tr>\n",
       "      <th>72274</th>\n",
       "      <td>12768</td>\n",
       "      <td>9180</td>\n",
       "      <td>13</td>\n",
       "      <td>6</td>\n",
       "      <td>322664.0</td>\n",
       "      <td>6568</td>\n",
       "      <td>9739</td>\n",
       "      <td>34</td>\n",
       "      <td>1631</td>\n",
       "      <td>3</td>\n",
       "      <td>3</td>\n",
       "      <td>21</td>\n",
       "    </tr>\n",
       "    <tr>\n",
       "      <th>37067</th>\n",
       "      <td>7955</td>\n",
       "      <td>10250</td>\n",
       "      <td>7</td>\n",
       "      <td>3</td>\n",
       "      <td>240930.0</td>\n",
       "      <td>6360</td>\n",
       "      <td>1558</td>\n",
       "      <td>26</td>\n",
       "      <td>1578</td>\n",
       "      <td>1</td>\n",
       "      <td>9</td>\n",
       "      <td>30</td>\n",
       "    </tr>\n",
       "    <tr>\n",
       "      <th>73743</th>\n",
       "      <td>67</td>\n",
       "      <td>2575</td>\n",
       "      <td>7</td>\n",
       "      <td>3</td>\n",
       "      <td>261503.0</td>\n",
       "      <td>5455</td>\n",
       "      <td>7692</td>\n",
       "      <td>20</td>\n",
       "      <td>3201</td>\n",
       "      <td>10</td>\n",
       "      <td>21</td>\n",
       "      <td>20</td>\n",
       "    </tr>\n",
       "    <tr>\n",
       "      <th>18982</th>\n",
       "      <td>3543</td>\n",
       "      <td>5095</td>\n",
       "      <td>7</td>\n",
       "      <td>3</td>\n",
       "      <td>279846.0</td>\n",
       "      <td>6167</td>\n",
       "      <td>1196</td>\n",
       "      <td>20</td>\n",
       "      <td>2119</td>\n",
       "      <td>10</td>\n",
       "      <td>27</td>\n",
       "      <td>8</td>\n",
       "    </tr>\n",
       "  </tbody>\n",
       "</table>\n",
       "</div>"
      ],
      "text/plain": [
       "        msno  song_id  source_screen_name  source_type  song_length  \\\n",
       "17601  12428     2766                   7            3     209215.0   \n",
       "72274  12768     9180                  13            6     322664.0   \n",
       "37067   7955    10250                   7            3     240930.0   \n",
       "73743     67     2575                   7            3     261503.0   \n",
       "18982   3543     5095                   7            3     279846.0   \n",
       "\n",
       "       artist_name  composer  bd  registration_init_time  \\\n",
       "17601         1330      5460  32                    1728   \n",
       "72274         6568      9739  34                    1631   \n",
       "37067         6360      1558  26                    1578   \n",
       "73743         5455      7692  20                    3201   \n",
       "18982         6167      1196  20                    2119   \n",
       "\n",
       "       registration_init_time_month  registration_init_time_day  \\\n",
       "17601                             6                           8   \n",
       "72274                             3                           3   \n",
       "37067                             1                           9   \n",
       "73743                            10                          21   \n",
       "18982                            10                          27   \n",
       "\n",
       "       expiration_date_day  \n",
       "17601                    9  \n",
       "72274                   21  \n",
       "37067                   30  \n",
       "73743                   20  \n",
       "18982                    8  "
      ]
     },
     "execution_count": 76,
     "metadata": {},
     "output_type": "execute_result"
    }
   ],
   "source": [
    "train_data.head()"
   ]
  },
  {
   "cell_type": "code",
   "execution_count": 81,
   "metadata": {},
   "outputs": [
    {
     "data": {
      "text/plain": [
       "<matplotlib.axes._subplots.AxesSubplot at 0x1c4e02a9518>"
      ]
     },
     "execution_count": 81,
     "metadata": {},
     "output_type": "execute_result"
    },
    {
     "data": {
      "image/png": "[encoded data removed]",
      "text/plain": [
       "<Figure size 432x288 with 1 Axes>"
      ]
     },
     "metadata": {},
     "output_type": "display_data"
    }
   ],
   "source": [
    "sns.regplot(x=train_data['bd'],y=train_data['song_length'])"
   ]
  },
  {
   "cell_type": "markdown",
   "metadata": {},
   "source": [
    "XGBOOST"
   ]
  },
  {
   "cell_type": "code",
   "execution_count": 24,
   "metadata": {},
   "outputs": [],
   "source": [
    "# Train & Test split\n",
    "target = df.pop('target')\n",
    "train_data, test_data, train_labels, test_labels = cross_validation.train_test_split(df, target, test_size = 0.3)\n",
    "\n",
    "# Delete df\n",
    "del df"
   ]
  },
  {
   "cell_type": "markdown",
   "metadata": {},
   "source": [
    "test for the best parameter"
   ]
  },
  {
   "cell_type": "code",
   "execution_count": 25,
   "metadata": {},
   "outputs": [
    {
     "ename": "AttributeError",
     "evalue": "'RandomizedSearchCV' object has no attribute 'bestestimator'",
     "output_type": "error",
     "traceback": [
      "\u001b[1;31m---------------------------------------------------------------------------\u001b[0m",
      "\u001b[1;31mAttributeError\u001b[0m                            Traceback (most recent call last)",
      "\u001b[1;32m<ipython-input-25-edf6ec904819>\u001b[0m in \u001b[0;36m<module>\u001b[1;34m()\u001b[0m\n\u001b[0;32m     21\u001b[0m \u001b[1;31m# Model with the best estimator\u001b[0m\u001b[1;33m\u001b[0m\u001b[1;33m\u001b[0m\u001b[0m\n\u001b[0;32m     22\u001b[0m \u001b[1;33m\u001b[0m\u001b[0m\n\u001b[1;32m---> 23\u001b[1;33m \u001b[0mgrid_cv\u001b[0m\u001b[1;33m.\u001b[0m\u001b[0mbestestimator\u001b[0m\u001b[1;33m\u001b[0m\u001b[0m\n\u001b[0m",
      "\u001b[1;31mAttributeError\u001b[0m: 'RandomizedSearchCV' object has no attribute 'bestestimator'"
     ]
    }
   ],
   "source": [
    "# Create model\n",
    "\n",
    "model = xgb.XGBClassifier()\n",
    "\n",
    "# Create parameters grid\n",
    "\n",
    "parameters_grid = { 'learning_rate' : [0.1, 0.2, 0.5], 'max_depth' : [5, 10, 15], 'n_estimators' : [150, 250, 300], 'min_child_weight' : [3, 5, 10] }\n",
    "\n",
    "# Strategy of cross validation\n",
    "\n",
    "cv = cross_validation.StratifiedShuffleSplit(train_labels, n_iter = 3, test_size = 0.3)\n",
    "\n",
    "# Create Grid search Strategy\n",
    "\n",
    "grid_cv = grid_search.RandomizedSearchCV(model, parameters_grid, scoring = 'accuracy', cv = cv)\n",
    "\n",
    "# Fit model by Grid\n",
    "\n",
    "grid_cv.fit(train_data, train_labels)\n",
    "\n"
   ]
  },
  {
   "cell_type": "code",
   "execution_count": 27,
   "metadata": {},
   "outputs": [
    {
     "data": {
      "text/plain": [
       "XGBClassifier(base_score=0.5, booster='gbtree', colsample_bylevel=1,\n",
       "       colsample_bytree=1, gamma=0, learning_rate=0.1, max_delta_step=0,\n",
       "       max_depth=5, min_child_weight=10, missing=None, n_estimators=150,\n",
       "       n_jobs=1, nthread=None, objective='binary:logistic', random_state=0,\n",
       "       reg_alpha=0, reg_lambda=1, scale_pos_weight=1, seed=None,\n",
       "       silent=True, subsample=1)"
      ]
     },
     "execution_count": 27,
     "metadata": {},
     "output_type": "execute_result"
    }
   ],
   "source": [
    "# Model with the best estimator\n",
    "\n",
    "grid_cv.best_estimator_"
   ]
  },
  {
   "cell_type": "code",
   "execution_count": 28,
   "metadata": {},
   "outputs": [
    {
     "data": {
      "text/plain": [
       "XGBClassifier(base_score=0.5, booster='gbtree', colsample_bylevel=1,\n",
       "       colsample_bytree=1, gamma=0, learning_rate=0.1, max_delta_step=0,\n",
       "       max_depth=15, min_child_weight=10, missing=None, n_estimators=150,\n",
       "       n_jobs=1, nthread=None, objective='binary:logistic', random_state=0,\n",
       "       reg_alpha=0, reg_lambda=1, scale_pos_weight=1, seed=None,\n",
       "       silent=True, subsample=1)"
      ]
     },
     "execution_count": 28,
     "metadata": {},
     "output_type": "execute_result"
    }
   ],
   "source": [
    "# Create model\n",
    "model = xgb.XGBClassifier(learning_rate=0.1, max_depth=15, min_child_weight=10, n_estimators=150)\n",
    "model.fit(train_data, train_labels)"
   ]
  },
  {
   "cell_type": "code",
   "execution_count": 29,
   "metadata": {},
   "outputs": [],
   "source": [
    "predict_labels = model.predict(test_data)"
   ]
  },
  {
   "cell_type": "code",
   "execution_count": 30,
   "metadata": {},
   "outputs": [
    {
     "name": "stdout",
     "output_type": "stream",
     "text": [
      "             precision    recall  f1-score   support\n",
      "\n",
      "          0       0.62      0.59      0.60     10962\n",
      "          1       0.62      0.65      0.63     11171\n",
      "\n",
      "avg / total       0.62      0.62      0.62     22133\n",
      "\n"
     ]
    }
   ],
   "source": [
    "print(metrics.classification_report(test_labels, predict_labels))"
   ]
  },
  {
   "cell_type": "code",
   "execution_count": 45,
   "metadata": {},
   "outputs": [],
   "source": [
    "from collections import Counter"
   ]
  },
  {
   "cell_type": "code",
   "execution_count": null,
   "metadata": {},
   "outputs": [],
   "source": []
  },
  {
   "cell_type": "code",
   "execution_count": 43,
   "metadata": {},
   "outputs": [],
   "source": [
    "test_test  =pd.read_csv(r'C:\\Users\\a0970\\OneDrive\\Documents\\datas\\KKBOX\\test.csv')"
   ]
  },
  {
   "cell_type": "code",
   "execution_count": 39,
   "metadata": {},
   "outputs": [
    {
     "data": {
      "text/html": [
       "<div>\n",
       "<style scoped>\n",
       "    .dataframe tbody tr th:only-of-type {\n",
       "        vertical-align: middle;\n",
       "    }\n",
       "\n",
       "    .dataframe tbody tr th {\n",
       "        vertical-align: top;\n",
       "    }\n",
       "\n",
       "    .dataframe thead th {\n",
       "        text-align: right;\n",
       "    }\n",
       "</style>\n",
       "<table border=\"1\" class=\"dataframe\">\n",
       "  <thead>\n",
       "    <tr style=\"text-align: right;\">\n",
       "      <th></th>\n",
       "      <th>id</th>\n",
       "      <th>msno</th>\n",
       "      <th>song_id</th>\n",
       "      <th>source_system_tab</th>\n",
       "      <th>source_screen_name</th>\n",
       "      <th>source_type</th>\n",
       "    </tr>\n",
       "  </thead>\n",
       "  <tbody>\n",
       "    <tr>\n",
       "      <th>0</th>\n",
       "      <td>0</td>\n",
       "      <td>V8ruy7SGk7tDm3zA51DPpn6qutt+vmKMBKa21dp54uM=</td>\n",
       "      <td>WmHKgKMlp1lQMecNdNvDMkvIycZYHnFwDT72I5sIssc=</td>\n",
       "      <td>my library</td>\n",
       "      <td>Local playlist more</td>\n",
       "      <td>local-library</td>\n",
       "    </tr>\n",
       "    <tr>\n",
       "      <th>1</th>\n",
       "      <td>1</td>\n",
       "      <td>V8ruy7SGk7tDm3zA51DPpn6qutt+vmKMBKa21dp54uM=</td>\n",
       "      <td>y/rsZ9DC7FwK5F2PK2D5mj+aOBUJAjuu3dZ14NgE0vM=</td>\n",
       "      <td>my library</td>\n",
       "      <td>Local playlist more</td>\n",
       "      <td>local-library</td>\n",
       "    </tr>\n",
       "    <tr>\n",
       "      <th>2</th>\n",
       "      <td>2</td>\n",
       "      <td>/uQAlrAkaczV+nWCd2sPF2ekvXPRipV7q0l+gbLuxjw=</td>\n",
       "      <td>8eZLFOdGVdXBSqoAv5nsLigeH2BvKXzTQYtUM53I0k4=</td>\n",
       "      <td>discover</td>\n",
       "      <td>NaN</td>\n",
       "      <td>song-based-playlist</td>\n",
       "    </tr>\n",
       "    <tr>\n",
       "      <th>3</th>\n",
       "      <td>3</td>\n",
       "      <td>1a6oo/iXKatxQx4eS9zTVD+KlSVaAFbTIqVvwLC1Y0k=</td>\n",
       "      <td>ztCf8thYsS4YN3GcIL/bvoxLm/T5mYBVKOO4C9NiVfQ=</td>\n",
       "      <td>radio</td>\n",
       "      <td>Radio</td>\n",
       "      <td>radio</td>\n",
       "    </tr>\n",
       "    <tr>\n",
       "      <th>4</th>\n",
       "      <td>4</td>\n",
       "      <td>1a6oo/iXKatxQx4eS9zTVD+KlSVaAFbTIqVvwLC1Y0k=</td>\n",
       "      <td>MKVMpslKcQhMaFEgcEQhEfi5+RZhMYlU3eRDpySrH8Y=</td>\n",
       "      <td>radio</td>\n",
       "      <td>Radio</td>\n",
       "      <td>radio</td>\n",
       "    </tr>\n",
       "  </tbody>\n",
       "</table>\n",
       "</div>"
      ],
      "text/plain": [
       "   id                                          msno  \\\n",
       "0   0  V8ruy7SGk7tDm3zA51DPpn6qutt+vmKMBKa21dp54uM=   \n",
       "1   1  V8ruy7SGk7tDm3zA51DPpn6qutt+vmKMBKa21dp54uM=   \n",
       "2   2  /uQAlrAkaczV+nWCd2sPF2ekvXPRipV7q0l+gbLuxjw=   \n",
       "3   3  1a6oo/iXKatxQx4eS9zTVD+KlSVaAFbTIqVvwLC1Y0k=   \n",
       "4   4  1a6oo/iXKatxQx4eS9zTVD+KlSVaAFbTIqVvwLC1Y0k=   \n",
       "\n",
       "                                        song_id source_system_tab  \\\n",
       "0  WmHKgKMlp1lQMecNdNvDMkvIycZYHnFwDT72I5sIssc=        my library   \n",
       "1  y/rsZ9DC7FwK5F2PK2D5mj+aOBUJAjuu3dZ14NgE0vM=        my library   \n",
       "2  8eZLFOdGVdXBSqoAv5nsLigeH2BvKXzTQYtUM53I0k4=          discover   \n",
       "3  ztCf8thYsS4YN3GcIL/bvoxLm/T5mYBVKOO4C9NiVfQ=             radio   \n",
       "4  MKVMpslKcQhMaFEgcEQhEfi5+RZhMYlU3eRDpySrH8Y=             radio   \n",
       "\n",
       "    source_screen_name          source_type  \n",
       "0  Local playlist more        local-library  \n",
       "1  Local playlist more        local-library  \n",
       "2                  NaN  song-based-playlist  \n",
       "3                Radio                radio  \n",
       "4                Radio                radio  "
      ]
     },
     "execution_count": 39,
     "metadata": {},
     "output_type": "execute_result"
    }
   ],
   "source": [
    "test_test.head()"
   ]
  },
  {
   "cell_type": "code",
   "execution_count": null,
   "metadata": {},
   "outputs": [],
   "source": []
  },
  {
   "cell_type": "code",
   "execution_count": 40,
   "metadata": {},
   "outputs": [],
   "source": [
    "for i in test_test.select_dtypes(include=['object']).columns:\n",
    "    test_test[i][test_test[i].isnull()] = 'unknown'\n",
    "test_test = test_test.fillna(value=0)\n",
    "# Create Dates\n",
    "\n",
    "# registration_init_time\n",
    "#test_test.registration_init_time = pd.to_datetime(test_test.registration_init_time, format='%Y%m%d', errors='ignore')\n",
    "#test_test['registration_init_time_year'] = test_test['registration_init_time'].dt.year\n",
    "#test_test['registration_init_time_month'] = test_test['registration_init_time'].dt.month\n",
    "#test_test['registration_init_time_day'] = test_test['registration_init_time'].dt.day\n",
    "\n",
    "# expiration_date\n",
    "#test_test.expiration_date = pd.to_datetime(test_test.expiration_date,  format='%Y%m%d', errors='ignore')\n",
    "#test_test['expiration_date_year'] = test_test['expiration_date'].dt.year\n",
    "#test_test['expiration_date_month'] = test_test['expiration_date'].dt.month\n",
    "#test_test['expiration_date_day'] = test_test['expiration_date'].dt.day\n",
    "# Dates to categoty\n",
    "#df['registration_init_time'] = df['registration_init_time'].astype('category')\n",
    "#df['expiration_date'] = df['expiration_date'].astype('category')\n",
    "# Object data to category\n",
    "for col in test_test.select_dtypes(include=['object']).columns:\n",
    "    test_test[col] = test_test[col].astype('category')\n",
    "    \n",
    "# Encoding categorical features\n",
    "for col in test_test.select_dtypes(include=['category']).columns:\n",
    "    test_test[col] = test_test[col].cat.codes"
   ]
  },
  {
   "cell_type": "code",
   "execution_count": null,
   "metadata": {},
   "outputs": [],
   "source": []
  },
  {
   "cell_type": "code",
   "execution_count": null,
   "metadata": {},
   "outputs": [],
   "source": []
  }
 ],
 "metadata": {
  "kernelspec": {
   "display_name": "Python 3",
   "language": "python",
   "name": "python3"
  },
  "language_info": {
   "codemirror_mode": {
    "name": "ipython",
    "version": 3
   },
   "file_extension": ".py",
   "mimetype": "text/x-python",
   "name": "python",
   "nbconvert_exporter": "python",
   "pygments_lexer": "ipython3",
   "version": "3.6.5"
  }
 },
 "nbformat": 4,
 "nbformat_minor": 2
}
